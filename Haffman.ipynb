{
 "cells": [
  {
   "cell_type": "markdown",
   "source": [
    "Подготовка данных"
   ],
   "metadata": {
    "collapsed": false,
    "pycharm": {
     "name": "#%% md\n"
    }
   }
  },
  {
   "cell_type": "code",
   "execution_count": 37,
   "metadata": {
    "collapsed": true
   },
   "outputs": [
    {
     "name": "stdout",
     "output_type": "stream",
     "text": [
      "Count of   is 64\n",
      "Count of е is 54\n",
      "Count of т is 41\n",
      "Count of о is 37\n",
      "Count of а is 29\n",
      "Count of н is 28\n",
      "Count of с is 27\n",
      "Count of в is 22\n",
      "Count of и is 21\n",
      "Count of к is 20\n",
      "Count of р is 17\n",
      "Count of л is 17\n",
      "Count of м is 17\n",
      "Count of д is 14\n",
      "Count of у is 11\n",
      "Count of з is 11\n",
      "Count of , is 9\n",
      "Count of ч is 8\n",
      "Count of п is 8\n",
      "Count of ь is 7\n",
      "Count of г is 6\n",
      "Count of ы is 6\n",
      "Count of я is 6\n",
      "Count of б is 5\n",
      "Count of ш is 4\n",
      "Count of ю is 4\n",
      "Count of х is 4\n",
      "Count of … is 4\n",
      "Count of ! is 3\n",
      "Count of ц is 3\n",
      "Count of й is 3\n",
      "Count of ; is 2\n",
      "Count of - is 1\n",
      "Count of x is 1\n",
      "Count of щ is 1\n",
      "\n",
      "Probability of   is 0.1243\n",
      "Probability of е is 0.1049\n",
      "Probability of т is 0.0796\n",
      "Probability of о is 0.0718\n",
      "Probability of а is 0.0563\n",
      "Probability of н is 0.0544\n",
      "Probability of с is 0.0524\n",
      "Probability of в is 0.0427\n",
      "Probability of и is 0.0408\n",
      "Probability of к is 0.0388\n",
      "Probability of р is 0.033\n",
      "Probability of л is 0.033\n",
      "Probability of м is 0.033\n",
      "Probability of д is 0.0272\n",
      "Probability of у is 0.0214\n",
      "Probability of з is 0.0214\n",
      "Probability of , is 0.0175\n",
      "Probability of ч is 0.0155\n",
      "Probability of п is 0.0155\n",
      "Probability of ь is 0.0136\n",
      "Probability of г is 0.0117\n",
      "Probability of ы is 0.0117\n",
      "Probability of я is 0.0117\n",
      "Probability of б is 0.0097\n",
      "Probability of ш is 0.0078\n",
      "Probability of ю is 0.0078\n",
      "Probability of х is 0.0078\n",
      "Probability of … is 0.0078\n",
      "Probability of ! is 0.0058\n",
      "Probability of ц is 0.0058\n",
      "Probability of й is 0.0058\n",
      "Probability of ; is 0.0039\n",
      "Probability of - is 0.0019\n",
      "Probability of x is 0.0019\n",
      "Probability of щ is 0.0019\n"
     ]
    }
   ],
   "source": [
    "import copy\n",
    "from collections import Counter\n",
    "\n",
    "with open('input.txt', 'r', encoding='utf-8') as f:\n",
    "    text = f.read()\n",
    "    text = text.replace('\\n', '').lower().replace('ё', 'е').replace('ъ', 'ь').replace('—', '-x')\n",
    "    chars = Counter(text)\n",
    "    chars = dict(sorted(chars.items(), key=lambda item: item[1], reverse=True))\n",
    "all_sum = 0\n",
    "for key, value in chars.items():\n",
    "    all_sum += value\n",
    "    print(f'Count of {key} is {value}')\n",
    "print()\n",
    "with open('output.txt', 'w', encoding='utf-8') as f:\n",
    "    for key, value in chars.items():\n",
    "        f.write(f'{key},{value}\\n')\n",
    "chars = {key: round(value / all_sum, 4) for key, value in chars.items()}\n",
    "for key, value in chars.items():\n",
    "    print(f'Probability of {key} is {value}')"
   ]
  },
  {
   "cell_type": "markdown",
   "source": [
    "Создание кодов"
   ],
   "metadata": {
    "collapsed": false,
    "pycharm": {
     "name": "#%% md\n"
    }
   }
  },
  {
   "cell_type": "code",
   "execution_count": 38,
   "outputs": [
    {
     "name": "stdout",
     "output_type": "stream",
     "text": [
      " : 100\n",
      "е: 001\n",
      "о: 1100\n",
      "т: 1101\n",
      "а: 0110\n",
      "н: 0101\n",
      "с: 0001\n",
      "в: 11110\n",
      "к: 11100\n",
      "и: 11101\n",
      "м: 10110\n",
      "р: 10100\n",
      "л: 10101\n",
      "д: 01001\n",
      "з: 00000\n",
      "у: 111111\n",
      ",: 101111\n",
      "п: 011110\n",
      "ч: 011101\n",
      "я: 010000\n",
      "ь: 010001\n",
      "г: 000010\n",
      "ы: 000011\n",
      "б: 1111100\n",
      "…: 1011100\n",
      "ю: 0111110\n",
      "х: 0111111\n",
      "й: 0111000\n",
      "ш: 0111001\n",
      "!: 11111010\n",
      "ц: 11111011\n",
      ";: 10111010\n",
      "щ: 101110110\n",
      "-: 1011101110\n",
      "x: 1011101111\n"
     ]
    }
   ],
   "source": [
    "def huffman(chars):\n",
    "    if len(chars) == 2:\n",
    "        return dict(zip(chars.keys(), ['0', '1']))\n",
    "\n",
    "    new_chars = chars.copy()\n",
    "    a1, a2 = lowest_prob_pair(chars)\n",
    "    p1, p2 = new_chars.pop(a1), new_chars.pop(a2)\n",
    "    new_key = (a1, a2)\n",
    "    new_chars[new_key] = p1 + p2\n",
    "\n",
    "    c = huffman(new_chars)\n",
    "    c_a1_a2 = c.pop(new_key)\n",
    "    c[a1] = c_a1_a2 + '0'\n",
    "    c[a2] = c_a1_a2 + '1'\n",
    "\n",
    "    return c\n",
    "\n",
    "\n",
    "def lowest_prob_pair(p):\n",
    "    sorted_p = sorted(p.items(), key=lambda x: x[1])\n",
    "    return sorted_p[0][0], sorted_p[1][0]\n",
    "\n",
    "\n",
    "codes = huffman(chars)\n",
    "for key, value in codes.items():\n",
    "    print(f'{key}: {value}')"
   ],
   "metadata": {
    "collapsed": false,
    "pycharm": {
     "name": "#%%\n"
    }
   }
  },
  {
   "cell_type": "markdown",
   "source": [
    "Показатели эффективности"
   ],
   "metadata": {
    "collapsed": false,
    "pycharm": {
     "name": "#%% md\n"
    }
   }
  },
  {
   "cell_type": "code",
   "execution_count": 39,
   "outputs": [
    {
     "name": "stdout",
     "output_type": "stream",
     "text": [
      "qср = 4.5127\n",
      "H = 4.487599999999998\n",
      "Показатель эффективности равен 0.0251000000000019\n"
     ]
    }
   ],
   "source": [
    "import math\n",
    "\n",
    "q_med = 0\n",
    "H = 0\n",
    "for key, value in chars.items():\n",
    "    q_med += round(value * len(codes[key]), 4)\n",
    "    H += round(-1 * value * math.log(value, 2), 4)\n",
    "q_med = round(q_med, 4)\n",
    "print(f'qср = {q_med}')\n",
    "print(f'H = {H}')\n",
    "print(f'Показатель эффективности равен {q_med - H}')"
   ],
   "metadata": {
    "collapsed": false,
    "pycharm": {
     "name": "#%%\n"
    }
   }
  },
  {
   "cell_type": "markdown",
   "source": [
    "Рисование графа"
   ],
   "metadata": {
    "collapsed": false,
    "pycharm": {
     "name": "#%% md\n"
    }
   }
  },
  {
   "cell_type": "code",
   "execution_count": 40,
   "outputs": [
    {
     "name": "stdout",
     "output_type": "stream",
     "text": [
      "Main\n",
      "├── 0\n",
      "│   ├── 00\n",
      "│   │   ├── ('е', '001')\n",
      "│   │   └── 000\n",
      "│   │       ├── ('с', '0001')\n",
      "│   │       └── 0000\n",
      "│   │           ├── ('з', '00000')\n",
      "│   │           └── 00001\n",
      "│   │               ├── ('г', '000010')\n",
      "│   │               └── ('ы', '000011')\n",
      "│   └── 01\n",
      "│       ├── 011\n",
      "│       │   ├── ('а', '0110')\n",
      "│       │   └── 0111\n",
      "│       │       ├── 01111\n",
      "│       │       │   ├── ('п', '011110')\n",
      "│       │       │   └── 011111\n",
      "│       │       │       ├── ('ю', '0111110')\n",
      "│       │       │       └── ('х', '0111111')\n",
      "│       │       └── 01110\n",
      "│       │           ├── ('ч', '011101')\n",
      "│       │           └── 011100\n",
      "│       │               ├── ('й', '0111000')\n",
      "│       │               └── ('ш', '0111001')\n",
      "│       └── 010\n",
      "│           ├── ('н', '0101')\n",
      "│           └── 0100\n",
      "│               ├── ('д', '01001')\n",
      "│               └── 01000\n",
      "│                   ├── ('я', '010000')\n",
      "│                   └── ('ь', '010001')\n",
      "└── 1\n",
      "    ├── 10\n",
      "    │   ├── (' ', '100')\n",
      "    │   └── 101\n",
      "    │       ├── 1011\n",
      "    │       │   ├── ('м', '10110')\n",
      "    │       │   └── 10111\n",
      "    │       │       ├── (',', '101111')\n",
      "    │       │       └── 101110\n",
      "    │       │           ├── ('…', '1011100')\n",
      "    │       │           └── 1011101\n",
      "    │       │               ├── (';', '10111010')\n",
      "    │       │               └── 10111011\n",
      "    │       │                   ├── ('щ', '101110110')\n",
      "    │       │                   └── 101110111\n",
      "    │       │                       ├── ('-', '1011101110')\n",
      "    │       │                       └── ('x', '1011101111')\n",
      "    │       └── 1010\n",
      "    │           ├── ('р', '10100')\n",
      "    │           └── ('л', '10101')\n",
      "    └── 11\n",
      "        ├── 110\n",
      "        │   ├── ('о', '1100')\n",
      "        │   └── ('т', '1101')\n",
      "        └── 111\n",
      "            ├── 1111\n",
      "            │   ├── ('в', '11110')\n",
      "            │   └── 11111\n",
      "            │       ├── ('у', '111111')\n",
      "            │       └── 111110\n",
      "            │           ├── ('б', '1111100')\n",
      "            │           └── 1111101\n",
      "            │               ├── ('!', '11111010')\n",
      "            │               └── ('ц', '11111011')\n",
      "            └── 1110\n",
      "                ├── ('к', '11100')\n",
      "                └── ('и', '11101')\n"
     ]
    }
   ],
   "source": [
    "from anytree import Node, RenderTree\n",
    "from anytree.exporter import DotExporter\n",
    "\n",
    "cur_code = ''\n",
    "all_nodes = {}\n",
    "\n",
    "\n",
    "def make_tree(chars: dict):\n",
    "    global cur_code\n",
    "    root = Node('Main')\n",
    "    all_nodes['Main'] = root\n",
    "    if len(chars.items()) == 2:\n",
    "        buf = list(chars.items())\n",
    "        if buf[0][1] == '0':\n",
    "            Node(buf[0][0], parent=root)\n",
    "            Node(buf[1][0], parent=root)\n",
    "        else:\n",
    "            Node(buf[1][0], parent=root)\n",
    "            Node(buf[0][0], parent=root)\n",
    "    else:\n",
    "        cur_code = '0'\n",
    "        make_main_nodes({key: value for key, value in chars.items() if value[0] == cur_code}, root)\n",
    "        cur_code = '1'\n",
    "        make_main_nodes({key: value for key, value in chars.items() if value[0] == cur_code}, root)\n",
    "    for pre, fill, node in RenderTree(root):  # Render\n",
    "        print(f'{pre}{node.name}')\n",
    "    DotExporter(root).to_picture(\"Haffman.png\")\n",
    "\n",
    "\n",
    "def make_main_nodes(chars: dict, root):\n",
    "    global cur_code\n",
    "    if len(chars.items()) > 1:\n",
    "        all_nodes[cur_code] = Node(cur_code, parent=root)\n",
    "    new_chars = dict(sorted(chars.items(), key=lambda x: len(x[1])))\n",
    "    for item in new_chars.items():\n",
    "        code = item[1]\n",
    "        if len(code) == 1:\n",
    "            Node(item, parent=root)\n",
    "            break\n",
    "        check_node(code[:len(code) - 1])\n",
    "        Node(item, parent=all_nodes[code[:len(code) - 1]])\n",
    "\n",
    "\n",
    "def check_node(node):\n",
    "    if not node in all_nodes.keys():\n",
    "        check_node(node[:len(node) - 1])\n",
    "        if len(node) > 1:\n",
    "            all_nodes[node] = Node(node, parent=all_nodes[node[:len(node) - 1]])\n",
    "\n",
    "\n",
    "make_tree(codes)"
   ],
   "metadata": {
    "collapsed": false,
    "pycharm": {
     "name": "#%%\n"
    }
   }
  }
 ],
 "metadata": {
  "kernelspec": {
   "display_name": "Python 3",
   "language": "python",
   "name": "python3"
  },
  "language_info": {
   "codemirror_mode": {
    "name": "ipython",
    "version": 2
   },
   "file_extension": ".py",
   "mimetype": "text/x-python",
   "name": "python",
   "nbconvert_exporter": "python",
   "pygments_lexer": "ipython2",
   "version": "2.7.6"
  }
 },
 "nbformat": 4,
 "nbformat_minor": 0
}